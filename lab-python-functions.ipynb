{
 "cells": [
  {
   "cell_type": "markdown",
   "metadata": {
    "tags": []
   },
   "source": [
    "# Lab | Data Structures "
   ]
  },
  {
   "cell_type": "markdown",
   "metadata": {},
   "source": [
    "## Exercise: Managing Customer Orders\n",
    "\n",
    "As part of a business venture, you are starting an online store that sells various products. To ensure smooth operations, you need to develop a program that manages customer orders and inventory.\n",
    "\n",
    "Follow the steps below to complete the exercise:\n",
    "\n",
    "1. Define a list called `products` that contains the following items: \"t-shirt\", \"mug\", \"hat\", \"book\", \"keychain\".\n",
    "\n",
    "2. Create an empty dictionary called `inventory`.\n",
    "\n",
    "3. Ask the user to input the quantity of each product available in the inventory. Use the product names from the `products` list as keys in the `inventory` dictionary and assign the respective quantities as values.\n",
    "\n",
    "4. Create an empty set called `customer_orders`.\n",
    "\n",
    "5. Ask the user to input the name of three products that a customer wants to order (from those in the products list, meaning three products out of \"t-shirt\", \"mug\", \"hat\", \"book\" or \"keychain\". Add each product name to the `customer_orders` set.\n",
    "\n",
    "6. Print the products in the `customer_orders` set.\n",
    "\n",
    "7. Calculate the following order statistics:\n",
    "   - Total Products Ordered: The total number of products in the `customer_orders` set.\n",
    "   - Percentage of Products Ordered: The percentage of products ordered compared to the total available products.\n",
    "   \n",
    "   Store these statistics in a tuple called `order_status`.\n",
    "\n",
    "8. Print the order statistics using the following format:\n",
    "   ```\n",
    "   Order Statistics:\n",
    "   Total Products Ordered: <total_products_ordered>\n",
    "   Percentage of Products Ordered: <percentage_ordered>% \n",
    "   ```\n",
    "\n",
    "9. Update the inventory by subtracting 1 from the quantity of each product. Modify the `inventory` dictionary accordingly.\n",
    "\n",
    "10. Print the updated inventory, displaying the quantity of each product on separate lines.\n",
    "\n",
    "Solve the exercise by implementing the steps using the Python concepts of lists, dictionaries, sets, and basic input/output operations. "
   ]
  },
  {
   "cell_type": "markdown",
   "metadata": {},
   "source": [
    "Define a list called products that contains the following items: \"t-shirt\", \"mug\", \"hat\", \"book\", \"keychain\"."
   ]
  },
  {
   "cell_type": "code",
   "execution_count": 110,
   "metadata": {},
   "outputs": [
    {
     "name": "stdin",
     "output_type": "stream",
     "text": [
      "How many t-shirt in inventory?:  20\n",
      "How many mug in inventory?:  20\n",
      "How many hat in inventory?:  20\n",
      "How many book in inventory?:  20\n",
      "How many keychain in inventory?:  20\n"
     ]
    },
    {
     "name": "stdout",
     "output_type": "stream",
     "text": [
      "t-shirt: 20\n",
      "mug: 20\n",
      "hat: 20\n",
      "book: 20\n",
      "keychain: 20\n"
     ]
    }
   ],
   "source": [
    "products = \"t-shirt\", \"mug\", \"hat\", \"book\", \"keychain\"\n",
    "\n",
    "inventory = {}\n",
    "\n",
    "for product in products:\n",
    "    quantity = int(input(f\"How many {product} in inventory?: \"))\n",
    "    inventory[product] = quantity\n",
    "\n",
    "for product, quantity in inventory.items():\n",
    "    print(f\"{product}: {quantity}\")\n"
   ]
  },
  {
   "cell_type": "code",
   "execution_count": 116,
   "metadata": {},
   "outputs": [
    {
     "name": "stdout",
     "output_type": "stream",
     "text": [
      "{'t-shirt': 20, 'mug': 20, 'hat': 20, 'book': 20, 'keychain': 20}\n"
     ]
    }
   ],
   "source": [
    "print(inventory)"
   ]
  },
  {
   "cell_type": "code",
   "execution_count": 118,
   "metadata": {},
   "outputs": [
    {
     "data": {
      "text/plain": [
       "100"
      ]
     },
     "execution_count": 118,
     "metadata": {},
     "output_type": "execute_result"
    }
   ],
   "source": [
    "my_list = list(inventory.values())\n",
    "\n",
    "total_inventory = 0\n",
    "for item in my_list:\n",
    "    total_inventory = total_inventory + item\n",
    "\n",
    "total_inventory\n"
   ]
  },
  {
   "cell_type": "code",
   "execution_count": 120,
   "metadata": {},
   "outputs": [],
   "source": [
    "customer_orders = set()"
   ]
  },
  {
   "cell_type": "code",
   "execution_count": 122,
   "metadata": {},
   "outputs": [
    {
     "name": "stdout",
     "output_type": "stream",
     "text": [
      "Enter the names of three products from the inventory \n"
     ]
    },
    {
     "name": "stdin",
     "output_type": "stream",
     "text": [
      "Product name:  keychain\n",
      "Product name:  t-shirt\n",
      "Product name:  book\n"
     ]
    }
   ],
   "source": [
    "print(\"Enter the names of three products from the inventory \")\n",
    "customer_orders = set()\n",
    "\n",
    "for product in range(3):\n",
    "    customer_input = input(\"Product name: \")\n",
    "    \n",
    "    if customer_input in products:\n",
    "        customer_orders.add(customer_input)\n",
    "    else:\n",
    "        print(\"Invalid product name. Please enter a valid product from the list.\")\n",
    "        customer_input = input(\"Enter product name: \")\n",
    "        if customer_input in products:\n",
    "            customer_orders.add(customer_input)\n",
    "        print(f\"{customer_orders} added to customer orders.\")\n"
   ]
  },
  {
   "cell_type": "markdown",
   "metadata": {},
   "source": [
    "Print the products in the customer_orders set."
   ]
  },
  {
   "cell_type": "code",
   "execution_count": 124,
   "metadata": {},
   "outputs": [
    {
     "name": "stdout",
     "output_type": "stream",
     "text": [
      "{'book', 'keychain', 't-shirt'}\n"
     ]
    }
   ],
   "source": [
    "print(customer_orders)"
   ]
  },
  {
   "cell_type": "code",
   "execution_count": 126,
   "metadata": {},
   "outputs": [
    {
     "name": "stdout",
     "output_type": "stream",
     "text": [
      "Total items ordered by customer: 3\n"
     ]
    }
   ],
   "source": [
    "curstomer_item_number = len(customer_orders)\n",
    "\n",
    "print(f\"Total items ordered by customer: {curstomer_item_number}\")"
   ]
  },
  {
   "cell_type": "code",
   "execution_count": 128,
   "metadata": {},
   "outputs": [
    {
     "name": "stdout",
     "output_type": "stream",
     "text": [
      "Total percentage ordered by customer: 3.00%\n"
     ]
    }
   ],
   "source": [
    "order_pct = (curstomer_item_number / total_inventory) * 100\n",
    "print(f\"Total percentage ordered by customer: {order_pct:.2f}%\")"
   ]
  },
  {
   "cell_type": "code",
   "execution_count": 130,
   "metadata": {},
   "outputs": [
    {
     "data": {
      "text/plain": [
       "({'book', 'keychain', 't-shirt'}, 3.0)"
      ]
     },
     "execution_count": 130,
     "metadata": {},
     "output_type": "execute_result"
    }
   ],
   "source": [
    "order_status = (customer_orders, order_pct)\n",
    "\n",
    "order_status"
   ]
  },
  {
   "cell_type": "code",
   "execution_count": 132,
   "metadata": {},
   "outputs": [
    {
     "name": "stdout",
     "output_type": "stream",
     "text": [
      "Order Statistics: \n",
      "Total Producst Ordered: 3\n",
      "Total products in inventory: 100\n",
      "Percentage of Products Ordered: 3.00 %\n"
     ]
    }
   ],
   "source": [
    "print(f\"Order Statistics: \")\n",
    "print(f\"Total Producst Ordered: {curstomer_item_number}\")\n",
    "print(f\"Total products in inventory: {total_inventory}\")\n",
    "print(f\"Percentage of Products Ordered: {order_pct:.2f} %\")"
   ]
  },
  {
   "cell_type": "code",
   "execution_count": 134,
   "metadata": {},
   "outputs": [],
   "source": [
    "for product in customer_orders:\n",
    "    if inventory[product] > 0:\n",
    "        inventory[product] -= 1\n",
    "\n",
    "print(\"Updated Inventory:\")\n",
    "for product, quantity in inventory.items():\n",
    "    print(f\"{product}: {quantity}\")"
   ]
  },
  {
   "cell_type": "markdown",
   "metadata": {},
   "source": [
    "# Lab | Flow Control"
   ]
  },
  {
   "cell_type": "markdown",
   "metadata": {},
   "source": [
    "Lab | Flow Control\n",
    "Exercise: Managing Customer Orders Optimized\n",
    "In the last lab, you were starting an online store that sells various products. To ensure smooth operations, you developed a program that manages customer orders and inventory.\n",
    "\n",
    "You did so without using flow control. Let's go a step further and improve this code.\n",
    "\n",
    "Follow the steps below to complete the exercise:\n",
    "\n",
    "1. Look at your code from the lab data structures, and improve repeated code with loops.\n",
    "\n",
    "2. Instead of asking the user to input the name of three products that a customer wants to order, do the following:\n",
    "\n",
    "a. Prompt the user to enter the name of a product that a customer wants to order.\n",
    "\n",
    "b. Add the product name to the \"customer_orders\" set.\n",
    "\n",
    "c. Ask the user if they want to add another product (yes/no).\n",
    "\n",
    "d. Continue the loop until the user does not want to add another product.\n",
    "\n",
    "3. Instead of updating the inventory by subtracting 1 from the quantity of each product, only do it for the products that were ordered (those in \"customer_orders\")."
   ]
  },
  {
   "cell_type": "code",
   "execution_count": 138,
   "metadata": {},
   "outputs": [
    {
     "name": "stdin",
     "output_type": "stream",
     "text": [
      "Enter product name:  t-shirt\n",
      "Do you want to add another item to your order? (yes/no):  yes\n",
      "Enter product name:  mug\n",
      "Do you want to add another item to your order? (yes/no):  no\n"
     ]
    },
    {
     "name": "stdout",
     "output_type": "stream",
     "text": [
      "Your final order: {'t-shirt', 'mug'}\n"
     ]
    }
   ],
   "source": [
    "customer_orders = set()\n",
    "add_more = \"yes\"\n",
    "\n",
    "while add_more == \"yes\":\n",
    "    product = input(\"Enter product name: \")\n",
    "\n",
    "    if product in inventory:\n",
    "        customer_orders.add(product)\n",
    "    else:\n",
    "        print(\"Invalid product name. Enter a valid product.\")\n",
    "\n",
    "    add_more = input(\"Do you want to add another item to your order? (yes/no): \")\n",
    "\n",
    "print(\"Your final order:\", customer_orders)"
   ]
  },
  {
   "cell_type": "markdown",
   "metadata": {},
   "source": [
    "# Lab | Functions"
   ]
  },
  {
   "cell_type": "markdown",
   "metadata": {},
   "source": [
    "Exercise: Managing Customer Orders with Functions\n",
    "In the previous exercise, you improved the code for managing customer orders by using loops and flow control. Now, let's take it a step further and refactor the code by introducing functions.\n",
    "\n",
    "Follow the steps below to complete the exercise:\n",
    "\n",
    "1. Define a function named initialize_inventory that takes products as a parameter. Inside the function, implement the code for initializing the inventory dictionary using a loop and user input.\n",
    "\n",
    "2. Define a function named get_customer_orders that takes no parameters. Inside the function, implement the code for prompting the user to enter the product names using a loop. The function should return the customer_orders set.\n",
    "\n",
    "3. Define a function named update_inventory that takes customer_orders and inventory as parameters. Inside the function, implement the code for updating the inventory dictionary based on the customer orders.\n",
    "\n",
    "4. Define a function named calculate_order_statistics that takes customer_orders and products as parameters. Inside the function, implement the code for calculating the order statistics (total products ordered, and percentage of unique products ordered). The function should return these values.\n",
    "\n",
    "5. Define a function named print_order_statistics that takes order_statistics as a parameter. Inside the function, implement the code for printing the order statistics.\n",
    "\n",
    "6. Define a function named print_updated_inventory that takes inventory as a parameter. Inside the function, implement the code for printing the updated inventory.\n",
    "\n",
    "7. Call the functions in the appropriate sequence to execute the program and manage customer orders.\n",
    "\n",
    "Hints for functions:\n",
    "\n",
    "- Consider the input parameters required for each function and their return values.\n",
    "- Utilize function parameters and return values to transfer data between functions.\n",
    "- Test your functions individually to ensure they work correctly."
   ]
  },
  {
   "cell_type": "code",
   "execution_count": 162,
   "metadata": {},
   "outputs": [],
   "source": [
    "def initialize_inventory(products):\n",
    "    inventory = {}\n",
    "    for product in products:\n",
    "        quantity = input(f\"Enter the quantity of {product}: \")\n",
    "        while not quantity.isdigit() or int(quantity) < 0:\n",
    "            print(\"Invalid input. Please enter a valid number.\")\n",
    "            quantity = input(f\"Enter the quantity of {product}: \")\n",
    "        inventory[product] = int(quantity)\n",
    "    return inventory\n",
    "\n",
    "def get_customer_orders():\n",
    "    print(\"Enter products names for order (type `done´ to finish: \")\n",
    "    product = input(\"Enter product name: \")\n",
    "    while product != 'done':\n",
    "        customer_orders.add(product)\n",
    "        product = input(\"Enter product name: \")\n",
    "    \n",
    "    return customer_orders\n",
    "\n",
    "def update_inventory(customer_orders, inventory):\n",
    "    for product in customer_orders:\n",
    "        if product in inventory and inventory[product] > 0:\n",
    "            inventory[product] -= 1\n",
    "        elif product in inventory and inventory[product] == 0:\n",
    "            print(f\"Product `{product}´ out of stock.\")\n",
    "        else:\n",
    "            print(f\"Product `{product}´ is not in inventory.\")\n",
    "    return inventory\n",
    "\n",
    "def calculate_order_statistics(customer_orders, products):\n",
    "    total_products_ordered = len(customer_orders)\n",
    "    unique_products_ordered = len(set(customer_orders))\n",
    "    total_unique_products = len(products)\n",
    "\n",
    "    if total_unique_products > 0:\n",
    "        percentage_unique_ordered = (unique_products_ordered / total_unique_products) * 100\n",
    "    else:\n",
    "        percentage_unique_ordered = 0\n",
    "\n",
    "    return total_products_ordered, percentage_unique_ordered\n",
    "\n",
    "def print_order_statistics(order_statistics):\n",
    "    total_products_ordered, percentage_unique_ordered = order_statistics\n",
    "    print(f\"Total products ordered: {total_products_ordered}\")\n",
    "    print(f\"Percentage of unique products ordered: {percentage_unique_ordered:.2f}%\")\n",
    "\n",
    "def print_updated_inventory(inventory):\n",
    "    print(\"Updated inventory:\")\n",
    "    for product, quantity in inventory.items():\n",
    "        print(f\"{product}: {quantity}\")"
   ]
  },
  {
   "cell_type": "code",
   "execution_count": 160,
   "metadata": {},
   "outputs": [
    {
     "name": "stdin",
     "output_type": "stream",
     "text": [
      "Enter the quantity of t-shirt:  10\n",
      "Enter the quantity of mug:  10\n",
      "Enter the quantity of hat:  10\n",
      "Enter the quantity of book:  10\n",
      "Enter the quantity of keychain:  10\n"
     ]
    },
    {
     "name": "stdout",
     "output_type": "stream",
     "text": [
      "Enter products names for order (type `done´ to finish: \n"
     ]
    },
    {
     "name": "stdin",
     "output_type": "stream",
     "text": [
      "Enter product name:  hat\n",
      "Enter product name:  done\n"
     ]
    },
    {
     "name": "stdout",
     "output_type": "stream",
     "text": [
      "Total products ordered: 3\n",
      "Percentage of unique products ordered: 60.00%\n",
      "Updated inventory:\n",
      "t-shirt: 9\n",
      "mug: 9\n",
      "hat: 9\n",
      "book: 10\n",
      "keychain: 10\n"
     ]
    }
   ],
   "source": [
    "def main():\n",
    "\n",
    "    inventory = initialize_inventory(products)\n",
    "\n",
    "    customer_orders = get_customer_orders()\n",
    "\n",
    "    updated_inventory = update_inventory(customer_orders, inventory)\n",
    "\n",
    "    order_statistics = calculate_order_statistics(customer_orders, products)\n",
    "\n",
    "    print_order_statistics(order_statistics)\n",
    "\n",
    "    print_updated_inventory(updated_inventory)\n",
    "\n",
    "if __name__ == \"__main__\":\n",
    "    main()"
   ]
  },
  {
   "cell_type": "code",
   "execution_count": null,
   "metadata": {},
   "outputs": [],
   "source": []
  }
 ],
 "metadata": {
  "kernelspec": {
   "display_name": "Python 3 (ipykernel)",
   "language": "python",
   "name": "python3"
  },
  "language_info": {
   "codemirror_mode": {
    "name": "ipython",
    "version": 3
   },
   "file_extension": ".py",
   "mimetype": "text/x-python",
   "name": "python",
   "nbconvert_exporter": "python",
   "pygments_lexer": "ipython3",
   "version": "3.11.7"
  }
 },
 "nbformat": 4,
 "nbformat_minor": 4
}
